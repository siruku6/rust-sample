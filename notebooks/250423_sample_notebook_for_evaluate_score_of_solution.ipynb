{
 "cells": [
  {
   "cell_type": "markdown",
   "id": "ec2d32f2",
   "metadata": {},
   "source": [
    "# Evaluate the score of a solution"
   ]
  },
  {
   "cell_type": "code",
   "execution_count": 4,
   "id": "1cf24be2",
   "metadata": {},
   "outputs": [],
   "source": [
    ":dep csv = {version = \"1.3.1\"}\n",
    ":dep sandbox = { path = \"../\" }"
   ]
  },
  {
   "cell_type": "code",
   "execution_count": 5,
   "id": "8c055e42",
   "metadata": {},
   "outputs": [],
   "source": [
    "use csv::StringRecord;\n",
    "\n",
    "use sandbox::utilities::file_readers;\n",
    "use sandbox::optimization::decoder::score;\n",
    "use sandbox::optimization::preprocess;\n",
    "use sandbox::optimization::preprocess::runner::JobMaster;\n",
    "use sandbox::optimization::runner::la40;\n",
    "use sandbox::optimization::types;\n"
   ]
  },
  {
   "cell_type": "code",
   "execution_count": 6,
   "id": "046975bf",
   "metadata": {},
   "outputs": [
    {
     "name": "stdout",
     "output_type": "stream",
     "text": [
      "Successfully \"../data/input/la40_tailored.txt\" is parsed with \"tab\"\n"
     ]
    }
   ],
   "source": [
    "let (header, row_list): (Option<StringRecord>, Vec<StringRecord>) = file_readers::read_csv(\"../data/input/la40_tailored.txt\".into(), 9, \"tab\".to_string());\n",
    "let job_master: JobMaster = preprocess::runner::run(header, row_list);\n",
    "let calculator: score::ScoreCalculator = score::ScoreCalculator::new(job_master.clone());\n"
   ]
  },
  {
   "cell_type": "code",
   "execution_count": 7,
   "id": "93372e10",
   "metadata": {},
   "outputs": [
    {
     "data": {
      "text/plain": [
       "1253"
      ]
     },
     "execution_count": 7,
     "metadata": {},
     "output_type": "execute_result"
    }
   ],
   "source": [
    "// score < 1300\n",
    "let best_solution: types::Chromosome = vec![8, 12, 4, 11, 3, 14, 5, 2, 7, 11, 10, 4, 0, 3, 14, 3, 10, 7, 3, 6, 7, 11, 7, 2, 10, 3, 4, 4, 6, 10, 14, 6, 12, 8, 0, 5, 0, 2, 5, 9, 2, 1, 9, 8, 14, 1, 4, 13, 12, 9, 13, 11, 14, 11, 11, 10, 14, 2, 8, 7, 10, 4, 3, 8, 7, 2, 6, 7, 9, 13, 8, 5, 4, 14, 1, 3, 0, 10, 11, 7, 3, 14, 13, 5, 13, 14, 8, 6, 4, 0, 4, 12, 11, 1, 3, 13, 0, 3, 3, 5, 11, 2, 12, 10, 13, 9, 11, 1, 2, 6, 7, 9, 8, 8, 14, 11, 5, 9, 13, 0, 12, 6, 3, 2, 6, 2, 1, 6, 13, 7, 3, 9, 0, 5, 9, 3, 4, 14, 13, 4, 14, 0, 8, 14, 1, 7, 7, 1, 5, 1, 5, 6, 11, 0, 6, 6, 0, 6, 4, 7, 10, 6, 9, 1, 2, 13, 12, 14, 12, 12, 13, 8, 13, 4, 8, 1, 5, 11, 13, 0, 10, 10, 12, 7, 4, 3, 9, 1, 10, 8, 11, 1, 12, 6, 5, 9, 5, 9, 2, 12, 14, 8, 0, 12, 9, 4, 7, 10, 2, 0, 10, 11, 10, 0, 1, 5, 1, 12, 2, 12, 8, 2, 13, 9, 5];\n",
    "calculator.calc_makespan(best_solution.clone())"
   ]
  },
  {
   "cell_type": "code",
   "execution_count": 8,
   "id": "6e4c289a",
   "metadata": {},
   "outputs": [
    {
     "data": {
      "text/plain": [
       "2405"
      ]
     },
     "execution_count": 8,
     "metadata": {},
     "output_type": "execute_result"
    }
   ],
   "source": [
    "// score > 2000\n",
    "let initial_chromosome: types::Chromosome = vec![6, 5, 2, 3, 7, 9, 13, 4, 13, 5, 10, 11, 1, 7, 0, 10, 13, 14, 13, 1, 12, 5, 7, 8, 11, 3, 5, 8, 11, 10, 9, 4, 4, 8, 0, 1, 12, 9, 1, 14, 4, 2, 6, 11, 7, 0, 9, 10, 6, 11, 7, 3, 14, 10, 8, 12, 4, 11, 6, 12, 0, 0, 7, 2, 7, 8, 1, 13, 13, 14, 10, 10, 14, 5, 5, 14, 1, 5, 4, 1, 6, 7, 0, 2, 12, 8, 0, 2, 0, 9, 3, 8, 3, 4, 4, 3, 7, 14, 1, 10, 10, 7, 4, 13, 13, 7, 14, 1, 7, 8, 6, 3, 10, 11, 13, 9, 5, 14, 8, 9, 2, 1, 3, 12, 5, 6, 6, 5, 12, 3, 2, 9, 2, 7, 11, 11, 12, 7, 1, 0, 3, 14, 9, 12, 4, 8, 11, 6, 3, 12, 2, 12, 14, 9, 2, 11, 0, 3, 14, 6, 4, 9, 2, 5, 12, 9, 10, 5, 6, 12, 11, 0, 10, 13, 12, 5, 13, 11, 9, 2, 11, 0, 2, 9, 2, 5, 11, 8, 10, 14, 2, 6, 1, 12, 1, 5, 13, 10, 14, 4, 8, 4, 10, 8, 1, 3, 8, 4, 3, 6, 13, 13, 8, 3, 0, 13, 6, 6, 14, 4, 1, 9, 0, 7, 0];\n",
    "calculator.calc_makespan(initial_chromosome.clone())\n"
   ]
  }
 ],
 "metadata": {
  "kernelspec": {
   "display_name": "Rust",
   "language": "rust",
   "name": "rust"
  },
  "language_info": {
   "codemirror_mode": "rust",
   "file_extension": ".rs",
   "mimetype": "text/rust",
   "name": "Rust",
   "pygment_lexer": "rust",
   "version": ""
  }
 },
 "nbformat": 4,
 "nbformat_minor": 5
}
